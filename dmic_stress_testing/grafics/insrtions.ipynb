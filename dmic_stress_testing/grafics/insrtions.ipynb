{
 "cells": [
  {
   "cell_type": "code",
   "execution_count": 10,
   "metadata": {},
   "outputs": [
    {
     "data": {
      "text/plain": [
       "300000.0"
      ]
     },
     "execution_count": 10,
     "metadata": {},
     "output_type": "execute_result"
    }
   ],
   "source": [
    "'''Сколько строк должен вставлять балк в кликхакус при n пользователях и m строчках'''\n",
    "users = 1000000\n",
    "rows_per_minute = 6\n",
    "flush_time = 3 #  секунды\n",
    "\n",
    "def _bulk_must_send(users, rows_per_minute, flush_time):\n",
    "    return (users * rows_per_minute * flush_time) / 60\n",
    "\n",
    "_bulk_must_send(users, rows_per_minute, flush_time)"
   ]
  },
  {
   "cell_type": "code",
   "execution_count": 9,
   "metadata": {},
   "outputs": [
    {
     "name": "stdout",
     "output_type": "stream",
     "text": [
      "1.0\n"
     ]
    }
   ],
   "source": [
    "'''Какой таймаут выставить на балке, чтобы не превысить заданное количество строк при отправке (максимум 100к строк за вставку рекомендация)'''\n",
    "bulk_send = 100000\n",
    "\n",
    "def _flush_time(bulk_must_send, users, rows_per_minute):\n",
    "    return (bulk_must_send * 60) / (users * rows_per_minute)\n",
    "\n",
    "_flush_time"
   ]
  },
  {
   "cell_type": "code",
   "execution_count": 14,
   "metadata": {},
   "outputs": [
    {
     "data": {
      "text/plain": [
       "416666.6666666667"
      ]
     },
     "execution_count": 14,
     "metadata": {},
     "output_type": "execute_result"
    }
   ],
   "source": [
    "'''Какое количество пользователей эмулируется на самом деле'''\n",
    "def _users_emulation(bulk_must_send, rows_per_minute, flush_time):\n",
    "    return (bulk_must_send * 60) / (rows_per_minute * flush_time)\n",
    "\n",
    "rows_per_minute = 6\n",
    "flush_time = 3 #  секунды\n",
    "bulk_send = 125000\n",
    "_users_emulation(bulk_send, rows_per_minute, flush_time)"
   ]
  },
  {
   "cell_type": "code",
   "execution_count": 5,
   "metadata": {},
   "outputs": [
    {
     "name": "stdout",
     "output_type": "stream",
     "text": [
      "Bucket le 21.0\n",
      "Bucket le 41.0\n",
      "Bucket le 61.0\n",
      "Bucket le 81.0\n",
      "Bucket le 101.0\n"
     ]
    }
   ],
   "source": [
    "f_count = 100\n",
    "count = 5\n",
    "width = f_count / count\n",
    "start = width * 1.05\n",
    "\n",
    "for i in range(count):\n",
    "    print(f'Bucket le {start}')\n",
    "    start += width\n"
   ]
  }
 ],
 "metadata": {
  "kernelspec": {
   "display_name": "venv",
   "language": "python",
   "name": "python3"
  },
  "language_info": {
   "codemirror_mode": {
    "name": "ipython",
    "version": 3
   },
   "file_extension": ".py",
   "mimetype": "text/x-python",
   "name": "python",
   "nbconvert_exporter": "python",
   "pygments_lexer": "ipython3",
   "version": "3.11.0"
  },
  "orig_nbformat": 4
 },
 "nbformat": 4,
 "nbformat_minor": 2
}
